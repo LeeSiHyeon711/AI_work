{
 "cells": [
  {
   "cell_type": "markdown",
   "metadata": {},
   "source": [
    "# 머신러닝 수식"
   ]
  },
  {
   "cell_type": "code",
   "execution_count": 1,
   "metadata": {},
   "outputs": [],
   "source": [
    "# 함수 생성\n",
    "def my_fun1(x):\n",
    "    return x**2"
   ]
  },
  {
   "cell_type": "code",
   "execution_count": 2,
   "metadata": {},
   "outputs": [],
   "source": [
    "# 미분함수\n",
    "def numerical_derivative(f, x):\n",
    "    delta_x=1e-4\n",
    "\n",
    "    return (f(x+delta_x)-f(x-delta_x))/(2*delta_x)"
   ]
  },
  {
   "cell_type": "code",
   "execution_count": 3,
   "metadata": {},
   "outputs": [
    {
     "name": "stdout",
     "output_type": "stream",
     "text": [
      "6.000000000012662\n"
     ]
    }
   ],
   "source": [
    "result=numerical_derivative(my_fun1, 3)\n",
    "print(result)"
   ]
  },
  {
   "cell_type": "code",
   "execution_count": 4,
   "metadata": {},
   "outputs": [],
   "source": [
    "def my_func2(x):\n",
    "    return 2*x**2+3*x+1"
   ]
  },
  {
   "cell_type": "code",
   "execution_count": 5,
   "metadata": {},
   "outputs": [
    {
     "name": "stdout",
     "output_type": "stream",
     "text": [
      "11.00000000000989\n"
     ]
    }
   ],
   "source": [
    "result2=numerical_derivative(my_func2, 2)\n",
    "print(result2)"
   ]
  },
  {
   "cell_type": "markdown",
   "metadata": {},
   "source": [
    "## 수치미분 - 다변수"
   ]
  },
  {
   "cell_type": "code",
   "execution_count": 11,
   "metadata": {},
   "outputs": [],
   "source": [
    "import numpy as np\n",
    "\n",
    "def numerical_derivative2(f,x):\n",
    "    delta_x=1e-4\n",
    "    grad=np.zeros_like(x)\n",
    "    print('x:',x)\n",
    "    print('grad:',grad)\n",
    "\n",
    "    it=np.nditer(x, flags=['multi_index'], op_flags=['readwrite'])\n",
    "\n",
    "    while not it.finished:\n",
    "        idx=it.multi_index\n",
    "        print('idx:',idx, 'x[idx]:', x[idx])\n",
    "        tmp_val=x[idx]\n",
    "        x[idx]=float(tmp_val)+delta_x\n",
    "        fx1=f(x)\n",
    "        x[idx]=float(tmp_val)-delta_x\n",
    "        fx2=f(x)\n",
    "        grad[idx]=(fx1-fx2)/(2*delta_x)\n",
    "        print('grad[idx]:',grad[idx])\n",
    "        print('grad:',grad)\n",
    "\n",
    "        x[idx]=tmp_val\n",
    "        it.iternext()\n",
    "\n",
    "    return grad"
   ]
  },
  {
   "cell_type": "code",
   "execution_count": 7,
   "metadata": {},
   "outputs": [],
   "source": [
    "def func3(input):\n",
    "    x=input[0]\n",
    "    y=input[1]\n",
    "    return (2*x + 3*x*y + np.power(y, 3))"
   ]
  },
  {
   "cell_type": "code",
   "execution_count": 12,
   "metadata": {},
   "outputs": [
    {
     "name": "stdout",
     "output_type": "stream",
     "text": [
      "x: [1. 2.]\n",
      "grad: [0. 0.]\n",
      "idx: (0,) x[idx]: 1.0\n",
      "grad[idx]: 7.999999999990237\n",
      "grad: [8. 0.]\n",
      "idx: (1,) x[idx]: 2.0\n",
      "grad[idx]: 15.000000010019221\n",
      "grad: [ 8.         15.00000001]\n"
     ]
    },
    {
     "data": {
      "text/plain": [
       "array([ 8.        , 15.00000001])"
      ]
     },
     "execution_count": 12,
     "metadata": {},
     "output_type": "execute_result"
    }
   ],
   "source": [
    "numerical_derivative2(func3, np.array([1.0,2.0]))"
   ]
  },
  {
   "cell_type": "code",
   "execution_count": 15,
   "metadata": {},
   "outputs": [
    {
     "name": "stdout",
     "output_type": "stream",
     "text": [
      "x: [3.]\n",
      "grad: [0.]\n",
      "idx: (0,) x[idx]: 3.0\n",
      "grad[idx]: 6.000000000012662\n",
      "grad: [6.]\n"
     ]
    },
    {
     "name": "stderr",
     "output_type": "stream",
     "text": [
      "C:\\Users\\COM\\AppData\\Local\\Temp\\ipykernel_18428\\2504724563.py:19: DeprecationWarning: Conversion of an array with ndim > 0 to a scalar is deprecated, and will error in future. Ensure you extract a single element from your array before performing this operation. (Deprecated NumPy 1.25.)\n",
      "  grad[idx]=(fx1-fx2)/(2*delta_x)\n"
     ]
    },
    {
     "data": {
      "text/plain": [
       "array([6.])"
      ]
     },
     "execution_count": 15,
     "metadata": {},
     "output_type": "execute_result"
    }
   ],
   "source": [
    "numerical_derivative2(my_fun1, np.array([3.0]))"
   ]
  },
  {
   "cell_type": "code",
   "execution_count": 21,
   "metadata": {},
   "outputs": [
    {
     "name": "stdout",
     "output_type": "stream",
     "text": [
      "[[1. 2.]\n",
      " [3. 4.]]\n"
     ]
    }
   ],
   "source": [
    "arr1=np.array([[1.0, 2.0],[3.0, 4.0]])\n",
    "print(arr1)"
   ]
  },
  {
   "cell_type": "code",
   "execution_count": 24,
   "metadata": {},
   "outputs": [],
   "source": [
    "def func4(input):\n",
    "    w=input[0][0]\n",
    "    x=input[0][1]\n",
    "    y=input[1][0]\n",
    "    z=input[1][1]\n",
    "\n",
    "    return (w*x + w*y*z + 3*2 + z*np.power(y,2))"
   ]
  },
  {
   "cell_type": "code",
   "execution_count": 25,
   "metadata": {},
   "outputs": [
    {
     "name": "stdout",
     "output_type": "stream",
     "text": [
      "x: [[0.9999 2.    ]\n",
      " [3.     4.    ]]\n",
      "grad: [[0. 0.]\n",
      " [0. 0.]]\n",
      "idx: (0, 0) x[idx]: 0.9999\n",
      "grad[idx]: 14.000000000002899\n",
      "grad: [[14.  0.]\n",
      " [ 0.  0.]]\n",
      "idx: (0, 1) x[idx]: 2.0\n",
      "grad[idx]: 0.9998999999893954\n",
      "grad: [[14.      0.9999]\n",
      " [ 0.      0.    ]]\n",
      "idx: (1, 0) x[idx]: 3.0\n",
      "grad[idx]: 27.999600000043756\n",
      "grad: [[14.      0.9999]\n",
      " [27.9996  0.    ]]\n",
      "idx: (1, 1) x[idx]: 4.0\n",
      "grad[idx]: 11.999700000018265\n",
      "grad: [[14.      0.9999]\n",
      " [27.9996 11.9997]]\n"
     ]
    },
    {
     "data": {
      "text/plain": [
       "array([[14.    ,  0.9999],\n",
       "       [27.9996, 11.9997]])"
      ]
     },
     "execution_count": 25,
     "metadata": {},
     "output_type": "execute_result"
    }
   ],
   "source": [
    "numerical_derivative2(func4, arr1)"
   ]
  }
 ],
 "metadata": {
  "kernelspec": {
   "display_name": "Python 3",
   "language": "python",
   "name": "python3"
  },
  "language_info": {
   "codemirror_mode": {
    "name": "ipython",
    "version": 3
   },
   "file_extension": ".py",
   "mimetype": "text/x-python",
   "name": "python",
   "nbconvert_exporter": "python",
   "pygments_lexer": "ipython3",
   "version": "3.11.9"
  }
 },
 "nbformat": 4,
 "nbformat_minor": 2
}
