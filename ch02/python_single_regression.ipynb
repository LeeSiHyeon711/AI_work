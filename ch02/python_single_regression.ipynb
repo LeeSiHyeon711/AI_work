{
 "cells": [
  {
   "cell_type": "markdown",
   "metadata": {},
   "source": [
    "# Basic"
   ]
  },
  {
   "cell_type": "code",
   "execution_count": 1,
   "metadata": {},
   "outputs": [],
   "source": [
    "import torch\n",
    "import torch.nn as nn\n",
    "import torch.nn.functional as F\n",
    "import torch.optim as optim\n",
    "import numpy as np"
   ]
  },
  {
   "cell_type": "code",
   "execution_count": 48,
   "metadata": {},
   "outputs": [
    {
     "name": "stdout",
     "output_type": "stream",
     "text": [
      "[[1]\n",
      " [2]\n",
      " [3]\n",
      " [4]\n",
      " [5]]\n",
      "[[ 3]\n",
      " [ 5]\n",
      " [ 7]\n",
      " [ 9]\n",
      " [11]]\n"
     ]
    }
   ],
   "source": [
    "x_data1=np.array([1,2,3,4,5]).reshape(5,1)\n",
    "t_data1=np.array([3,5,7,9,11]).reshape(5,1)      # w = 2, b = 1 이 정답\n",
    "\n",
    "print(x_data1)\n",
    "print(t_data1)"
   ]
  },
  {
   "cell_type": "code",
   "execution_count": 24,
   "metadata": {},
   "outputs": [],
   "source": [
    "x_data2=np.array([[1,2],[2,3],[3,4],[4,5],[5,6]]).reshape(5,2)\n",
    "t_data2=np.array([3,5,7,9,11]).reshape(5,1)      # w = 2, b = 1 이 정답"
   ]
  },
  {
   "cell_type": "code",
   "execution_count": 25,
   "metadata": {},
   "outputs": [
    {
     "name": "stdout",
     "output_type": "stream",
     "text": [
      "[[0.13460243]\n",
      " [0.49924354]]\n",
      "[0.61405124]\n"
     ]
    }
   ],
   "source": [
    "w2=np.random.rand(2,1)\n",
    "b2=np.random.rand(1)\n",
    "print(w2)\n",
    "print(b2)"
   ]
  },
  {
   "cell_type": "code",
   "execution_count": 17,
   "metadata": {},
   "outputs": [
    {
     "name": "stdout",
     "output_type": "stream",
     "text": [
      "[[0.87664719]]\n",
      "[0.67927499]\n"
     ]
    }
   ],
   "source": [
    "w=np.random.rand(1,1)\n",
    "b=np.random.rand(1)\n",
    "print(w)\n",
    "print(b)"
   ]
  },
  {
   "cell_type": "code",
   "execution_count": 32,
   "metadata": {},
   "outputs": [],
   "source": [
    "# 손실함수 만들기\n",
    "def loss_func1(x,t):\n",
    "    y=np.dot(x,w2)+b2\n",
    "\n",
    "    return (np.sum((t-y)**2))/(len(x))        # MSE"
   ]
  },
  {
   "cell_type": "code",
   "execution_count": 33,
   "metadata": {},
   "outputs": [],
   "source": [
    "# 미분함수\n",
    "\n",
    "def numerical_derivative(f,x):\n",
    "    delta_x=1e-4\n",
    "    grad=np.zeros_like(x)\n",
    "\n",
    "    it=np.nditer(x, flags=['multi_index'], op_flags=['readwrite'])\n",
    "\n",
    "    while not it.finished:\n",
    "        idx=it.multi_index\n",
    "        tmp_val=x[idx]\n",
    "        x[idx]=float(tmp_val)+delta_x\n",
    "        fx1=f(x)\n",
    "        x[idx]=float(tmp_val)-delta_x\n",
    "        fx2=f(x)\n",
    "        grad[idx]=(fx1-fx2)/(2*delta_x)\n",
    "\n",
    "        x[idx]=tmp_val\n",
    "        it.iternext()\n",
    "\n",
    "    return grad"
   ]
  },
  {
   "cell_type": "code",
   "execution_count": 46,
   "metadata": {},
   "outputs": [],
   "source": [
    "# 새로운 값으로 예측하기\n",
    "def predict(x):\n",
    "    y=np.dot(x, w2)+b2\n",
    "    return y"
   ]
  },
  {
   "cell_type": "code",
   "execution_count": 41,
   "metadata": {},
   "outputs": [
    {
     "name": "stdout",
     "output_type": "stream",
     "text": [
      "Initial error value: 19.61431235606731\n",
      "step:  0 error value:  19.38292426513062 w:  [[0.13753999]\n",
      " [0.50297813]] b [0.61484353]\n",
      "step:  100 error value:  5.9628792684988055 w:  [[0.35846901]\n",
      " [0.78306046]] b [0.67364021]\n",
      "step:  200 error value:  1.9010319134782616 w:  [[0.4808235]\n",
      " [0.936757 ]] b [0.7047859]\n",
      "step:  300 error value:  0.6710874840685559 w:  [[0.54894882]\n",
      " [1.02093023]] b [0.72072558]\n",
      "step:  400 error value:  0.2981179013043636 w:  [[0.58723939]\n",
      " [1.06686017]] b [0.72830524]\n",
      "step:  500 error value:  0.1844870919358727 w:  [[0.60911457]\n",
      " [1.09175398]] b [0.73129083]\n",
      "step:  600 error value:  0.1493427632992228 w:  [[0.6219564 ]\n",
      " [1.10507731]] b [0.73175397]\n",
      "step:  700 error value:  0.137956304428939 w:  [[0.62982571]\n",
      " [1.11203721]] b [0.73083426]\n",
      "step:  800 error value:  0.13376578288383684 w:  [[0.63495642]\n",
      " [1.11549807]] b [0.72915856]\n",
      "step:  900 error value:  0.13175909465525296 w:  [[0.6385774 ]\n",
      " [1.11703558]] b [0.72707169]\n",
      "step:  1000 error value:  0.13041934304877661 w:  [[0.64136466]\n",
      " [1.11751653]] b [0.72476333]\n",
      "step:  1100 error value:  0.12928737811263097 w:  [[0.6436901 ]\n",
      " [1.11741773]] b [0.72233778]\n",
      "step:  1200 error value:  0.12822416867863184 w:  [[0.6457583 ]\n",
      " [1.11700148]] b [0.71985241]\n",
      "step:  1300 error value:  0.12718757350497617 w:  [[0.64768183]\n",
      " [1.11641204]] b [0.71733876]\n",
      "step:  1400 error value:  0.12616478165661843 w:  [[0.64952262]\n",
      " [1.11572879]] b [0.71481417]\n",
      "step:  1500 error value:  0.1251518637289649 w:  [[0.65131474]\n",
      " [1.11499537]] b [0.71228814]\n",
      "step:  1600 error value:  0.12414758134655957 w:  [[0.65307696]\n",
      " [1.1142358 ]] b [0.7097659]\n",
      "step:  1700 error value:  0.12315151248677432 w:  [[0.6548196 ]\n",
      " [1.11346326]] b [0.70725028]\n",
      "step:  1800 error value:  0.12216348343302863 w:  [[0.65654838]\n",
      " [1.11268502]] b [0.70474286]\n",
      "step:  1900 error value:  0.12118339646545526 w:  [[0.65826643]\n",
      " [1.11190507]] b [0.70224445]\n"
     ]
    }
   ],
   "source": [
    "# 손실함수 값\n",
    "cost_list=[]\n",
    "\n",
    "# 러닝레이트 값\n",
    "learing_rate=1e-4\n",
    "\n",
    "f=lambda x:loss_func1(x_data2, t_data2)\n",
    "\n",
    "print('Initial error value:',loss_func1(x_data2, t_data2))\n",
    "\n",
    "for step in range(2000):\n",
    "    w2-=learing_rate*numerical_derivative(f,w2)\n",
    "    b2-=learing_rate*numerical_derivative(f,b2)\n",
    "\n",
    "    if step % 100 == 0:\n",
    "        print('step: ', step, 'error value: ', loss_func1(x_data2,t_data2), 'w: ', w2, 'b', b2)"
   ]
  },
  {
   "cell_type": "code",
   "execution_count": 47,
   "metadata": {},
   "outputs": [
    {
     "data": {
      "text/plain": [
       "array([[14.20855639]])"
      ]
     },
     "execution_count": 47,
     "metadata": {},
     "output_type": "execute_result"
    }
   ],
   "source": [
    "# 예측값\n",
    "predict(np.array([[6,7]]))\n",
    "predict(np.array([[7,8]]))"
   ]
  }
 ],
 "metadata": {
  "kernelspec": {
   "display_name": "Python 3",
   "language": "python",
   "name": "python3"
  },
  "language_info": {
   "codemirror_mode": {
    "name": "ipython",
    "version": 3
   },
   "file_extension": ".py",
   "mimetype": "text/x-python",
   "name": "python",
   "nbconvert_exporter": "python",
   "pygments_lexer": "ipython3",
   "version": "3.11.9"
  }
 },
 "nbformat": 4,
 "nbformat_minor": 2
}
