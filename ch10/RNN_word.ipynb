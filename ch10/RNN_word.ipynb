{
 "cells": [
  {
   "cell_type": "code",
   "execution_count": 46,
   "metadata": {},
   "outputs": [],
   "source": [
    "import torch\n",
    "import torch.nn as nn\n",
    "import torch.optim as optim\n",
    "import numpy as np"
   ]
  },
  {
   "cell_type": "code",
   "execution_count": 47,
   "metadata": {},
   "outputs": [
    {
     "name": "stdout",
     "output_type": "stream",
     "text": [
      "['Repeat', 'is', 'the', 'best', 'medicine', 'for', 'memory']\n"
     ]
    }
   ],
   "source": [
    "sentence = \"Repeat is the best medicine for memory\".split()\n",
    "print(sentence)"
   ]
  },
  {
   "cell_type": "code",
   "execution_count": 48,
   "metadata": {},
   "outputs": [
    {
     "name": "stdout",
     "output_type": "stream",
     "text": [
      "['Repeat', 'best', 'for', 'is', 'medicine', 'memory', 'the']\n"
     ]
    }
   ],
   "source": [
    "vocab = sorted(list(set(sentence)))\n",
    "print(vocab)"
   ]
  },
  {
   "cell_type": "code",
   "execution_count": 49,
   "metadata": {},
   "outputs": [
    {
     "data": {
      "text/plain": [
       "7"
      ]
     },
     "execution_count": 49,
     "metadata": {},
     "output_type": "execute_result"
    }
   ],
   "source": [
    "vocab_size = len(vocab)\n",
    "vocab_size"
   ]
  },
  {
   "cell_type": "code",
   "execution_count": 50,
   "metadata": {},
   "outputs": [
    {
     "name": "stdout",
     "output_type": "stream",
     "text": [
      "{'Repeat': 1, 'best': 2, 'for': 3, 'is': 4, 'medicine': 5, 'memory': 6, 'the': 7}\n",
      "{'Repeat': 1, 'best': 2, 'for': 3, 'is': 4, 'medicine': 5, 'memory': 6, 'the': 7, '<unk>': 0}\n"
     ]
    }
   ],
   "source": [
    "word_to_index = {tkn:i for i, tkn in enumerate(vocab,1)}\n",
    "print(word_to_index)\n",
    "word_to_index['<unk>']=0\n",
    "print(word_to_index)"
   ]
  },
  {
   "cell_type": "code",
   "execution_count": 51,
   "metadata": {},
   "outputs": [
    {
     "name": "stdout",
     "output_type": "stream",
     "text": [
      "3\n"
     ]
    }
   ],
   "source": [
    "print(word_to_index['for'])         # word가 key가 되고 index가 value가 된다"
   ]
  },
  {
   "cell_type": "code",
   "execution_count": 52,
   "metadata": {},
   "outputs": [
    {
     "name": "stdout",
     "output_type": "stream",
     "text": [
      "[1, 4, 7, 2, 5, 3, 6]\n"
     ]
    }
   ],
   "source": [
    "encode = [word_to_index[t] for t in sentence]\n",
    "print(encode)"
   ]
  },
  {
   "cell_type": "code",
   "execution_count": 53,
   "metadata": {},
   "outputs": [],
   "source": [
    "def build_data(sentence, word_to_index):\n",
    "    encode = [word_to_index[t] for t in sentence]\n",
    "    input_seq = encode[:-1]\n",
    "    label_seq = encode[1:]\n",
    "    input_seq = torch.LongTensor(input_seq).unsqueeze(0)\n",
    "    label_seq = torch.LongTensor([label_seq])\n",
    "    print(input_seq)\n",
    "    print(label_seq)\n",
    "    return input_seq, label_seq"
   ]
  },
  {
   "cell_type": "code",
   "execution_count": 54,
   "metadata": {},
   "outputs": [
    {
     "name": "stdout",
     "output_type": "stream",
     "text": [
      "tensor([[1, 4, 7, 2, 5, 3]])\n",
      "tensor([[4, 7, 2, 5, 3, 6]])\n",
      "tensor([[1, 4, 7, 2, 5, 3]])\n",
      "tensor([[4, 7, 2, 5, 3, 6]])\n"
     ]
    }
   ],
   "source": [
    "X,Y = build_data(sentence, word_to_index)\n",
    "print(X)\n",
    "print(Y)"
   ]
  },
  {
   "cell_type": "code",
   "execution_count": 55,
   "metadata": {},
   "outputs": [],
   "source": [
    "class Net(nn.Module):\n",
    "    def __init__(self, vocab_size, input_size, hidden_size, batch_first=True):\n",
    "        super(Net, self).__init__()\n",
    "\n",
    "        self.embedding_layer = nn.Embedding(num_embeddings=vocab_size, embedding_dim=input_size)\n",
    "        self.rnn = nn.RNN(input_size, hidden_size, batch_first=batch_first)\n",
    "        self.fc = nn.Linear(hidden_size, vocab_size)\n",
    "    \n",
    "    def forward(self, x):\n",
    "        output = self.embedding_layer(x)\n",
    "        # 임베딩층 : 크기변화(배치크기, 시퀀스 길이) => (배치크기, 시퀀스길이, 임베딩 차원)\n",
    "        output, hidden = self.rnn(output)\n",
    "        # RNN층 : 크기변화(배치크기, 시퀀스 길이, 임베딩 차원)\n",
    "        # output : (배치크기, 시퀀스 길이, 은닉층 크기)\n",
    "        # hidden : (1, 배치크기, 은닉층 크기)\n",
    "        \n",
    "        output = self.fc(output)\n",
    "        # 크기변화 : (배치크기, 시퀀스 길이, 단어장 크기) => (배치크기*시퀀스길이, 단어장 크기)\n",
    "\n",
    "        return output.view(-1, output.size(2))"
   ]
  },
  {
   "cell_type": "code",
   "execution_count": 56,
   "metadata": {},
   "outputs": [],
   "source": [
    "vocab_size = len(word_to_index)\n",
    "input_size = vocab_size\n",
    "hidden_size = 2"
   ]
  },
  {
   "cell_type": "code",
   "execution_count": 57,
   "metadata": {},
   "outputs": [],
   "source": [
    "model = Net(vocab_size, input_size, hidden_size, batch_first=True)\n",
    "loss_func = nn.CrossEntropyLoss()\n",
    "optimizer = optim.Adam(model.parameters())"
   ]
  },
  {
   "cell_type": "code",
   "execution_count": 58,
   "metadata": {},
   "outputs": [
    {
     "name": "stdout",
     "output_type": "stream",
     "text": [
      "{1: 'Repeat', 2: 'best', 3: 'for', 4: 'is', 5: 'medicine', 6: 'memory', 7: 'the', 0: '<unk>'}\n",
      "<function <lambda> at 0x00000223065167A0>\n"
     ]
    }
   ],
   "source": [
    "index_to_word = {v:k for k,v in word_to_index.items()}\n",
    "print(index_to_word)\n",
    "decode = lambda y:[index_to_word.get(x) for x in y]\n",
    "print(decode)"
   ]
  },
  {
   "cell_type": "code",
   "execution_count": 63,
   "metadata": {},
   "outputs": [
    {
     "name": "stdout",
     "output_type": "stream",
     "text": [
      "0 [6, 7, 2, 5, 3, 6] str:  Repeat memory the best medicine for memory\n",
      "10 [6, 7, 2, 5, 3, 6] str:  Repeat memory the best medicine for memory\n",
      "20 [6, 7, 2, 5, 3, 6] str:  Repeat memory the best medicine for memory\n",
      "30 [6, 7, 2, 5, 3, 6] str:  Repeat memory the best medicine for memory\n",
      "40 [6, 7, 2, 5, 3, 6] str:  Repeat memory the best medicine for memory\n",
      "50 [6, 7, 2, 5, 3, 6] str:  Repeat memory the best medicine for memory\n",
      "60 [6, 7, 2, 5, 3, 6] str:  Repeat memory the best medicine for memory\n",
      "70 [6, 7, 2, 5, 3, 6] str:  Repeat memory the best medicine for memory\n",
      "80 [6, 7, 2, 5, 3, 6] str:  Repeat memory the best medicine for memory\n",
      "90 [6, 7, 2, 5, 3, 6] str:  Repeat memory the best medicine for memory\n",
      "100 [6, 7, 2, 5, 3, 6] str:  Repeat memory the best medicine for memory\n",
      "110 [6, 7, 2, 5, 3, 6] str:  Repeat memory the best medicine for memory\n",
      "120 [6, 7, 2, 5, 3, 6] str:  Repeat memory the best medicine for memory\n",
      "130 [6, 7, 2, 5, 3, 6] str:  Repeat memory the best medicine for memory\n",
      "140 [6, 7, 2, 5, 3, 6] str:  Repeat memory the best medicine for memory\n",
      "150 [6, 7, 2, 5, 3, 6] str:  Repeat memory the best medicine for memory\n",
      "160 [6, 7, 2, 5, 3, 6] str:  Repeat memory the best medicine for memory\n",
      "170 [6, 7, 2, 5, 3, 6] str:  Repeat memory the best medicine for memory\n",
      "180 [6, 7, 2, 5, 3, 6] str:  Repeat memory the best medicine for memory\n",
      "190 [6, 7, 2, 5, 3, 6] str:  Repeat memory the best medicine for memory\n"
     ]
    }
   ],
   "source": [
    "for step in range(200):\n",
    "    optimizer.zero_grad()\n",
    "    output = model(X)\n",
    "    loss = loss_func(output, Y.view(-1))\n",
    "    loss.backward()\n",
    "    optimizer.step()\n",
    "\n",
    "    pred = output.softmax(-1).argmax(-1).tolist()\n",
    "\n",
    "    if step%10==0:\n",
    "        print(step, pred, 'str: ', ' '.join(['Repeat']+decode(pred)))"
   ]
  }
 ],
 "metadata": {
  "kernelspec": {
   "display_name": "base",
   "language": "python",
   "name": "python3"
  },
  "language_info": {
   "codemirror_mode": {
    "name": "ipython",
    "version": 3
   },
   "file_extension": ".py",
   "mimetype": "text/x-python",
   "name": "python",
   "nbconvert_exporter": "python",
   "pygments_lexer": "ipython3",
   "version": "3.12.7"
  }
 },
 "nbformat": 4,
 "nbformat_minor": 2
}
