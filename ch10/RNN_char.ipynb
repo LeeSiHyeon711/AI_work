{
 "cells": [
  {
   "cell_type": "code",
   "execution_count": 55,
   "metadata": {},
   "outputs": [],
   "source": [
    "import torch\n",
    "import torch.nn as nn\n",
    "import torch.optim as optim\n",
    "import numpy as np"
   ]
  },
  {
   "cell_type": "code",
   "execution_count": 56,
   "metadata": {},
   "outputs": [],
   "source": [
    "# 'apple' : input_data => apple, output_data = pple!"
   ]
  },
  {
   "cell_type": "code",
   "execution_count": 57,
   "metadata": {},
   "outputs": [
    {
     "name": "stdout",
     "output_type": "stream",
     "text": [
      "['!', 'a', 'e', 'l', 'p']\n",
      "5\n"
     ]
    }
   ],
   "source": [
    "input_str = 'apple'\n",
    "label_str = 'pple!'\n",
    "char_set = sorted(list(set(input_str+label_str)))\n",
    "print(char_set)\n",
    "char_set_size = len(char_set)\n",
    "print(char_set_size)"
   ]
  },
  {
   "cell_type": "code",
   "execution_count": 58,
   "metadata": {},
   "outputs": [],
   "source": [
    "input_size = 5\n",
    "hidden_size = 5\n",
    "output_size = 5\n",
    "learning_rate = 0.1"
   ]
  },
  {
   "cell_type": "code",
   "execution_count": 59,
   "metadata": {},
   "outputs": [
    {
     "name": "stdout",
     "output_type": "stream",
     "text": [
      "{'!': 0, 'a': 1, 'e': 2, 'l': 3, 'p': 4}\n"
     ]
    }
   ],
   "source": [
    "char_to_index = dict((c,i) for i, c in enumerate(char_set))\n",
    "\n",
    "# char_list = [c for c in char_set]\n",
    "print(char_to_index)"
   ]
  },
  {
   "cell_type": "code",
   "execution_count": 60,
   "metadata": {},
   "outputs": [
    {
     "data": {
      "text/plain": [
       "dict_items([('!', 0), ('a', 1), ('e', 2), ('l', 3), ('p', 4)])"
      ]
     },
     "execution_count": 60,
     "metadata": {},
     "output_type": "execute_result"
    }
   ],
   "source": [
    "char_to_index.items()"
   ]
  },
  {
   "cell_type": "code",
   "execution_count": 61,
   "metadata": {},
   "outputs": [
    {
     "data": {
      "text/plain": [
       "dict_values([0, 1, 2, 3, 4])"
      ]
     },
     "execution_count": 61,
     "metadata": {},
     "output_type": "execute_result"
    }
   ],
   "source": [
    "char_to_index.values()"
   ]
  },
  {
   "cell_type": "code",
   "execution_count": 62,
   "metadata": {},
   "outputs": [
    {
     "data": {
      "text/plain": [
       "dict_keys(['!', 'a', 'e', 'l', 'p'])"
      ]
     },
     "execution_count": 62,
     "metadata": {},
     "output_type": "execute_result"
    }
   ],
   "source": [
    "char_to_index.keys()"
   ]
  },
  {
   "cell_type": "code",
   "execution_count": 63,
   "metadata": {},
   "outputs": [
    {
     "name": "stdout",
     "output_type": "stream",
     "text": [
      "{0: '!', 1: 'a', 2: 'e', 3: 'l', 4: 'p'}\n"
     ]
    }
   ],
   "source": [
    "index_to_char = {}\n",
    "for key, value in char_to_index.items():\n",
    "    index_to_char[value]=key\n",
    "\n",
    "print(index_to_char)"
   ]
  },
  {
   "cell_type": "code",
   "execution_count": 64,
   "metadata": {},
   "outputs": [
    {
     "name": "stdout",
     "output_type": "stream",
     "text": [
      "[[1, 4, 4, 3, 2]]\n",
      "[[4, 4, 3, 2, 0]]\n"
     ]
    }
   ],
   "source": [
    "x_data = [char_to_index[c] for c in input_str]      # apple\n",
    "y_data = [char_to_index[c] for c in label_str]      # pple!\n",
    "x_data=[x_data]\n",
    "y_data=[y_data]\n",
    "print(x_data)\n",
    "print(y_data)"
   ]
  },
  {
   "cell_type": "code",
   "execution_count": 65,
   "metadata": {},
   "outputs": [
    {
     "name": "stdout",
     "output_type": "stream",
     "text": [
      "[array([[0., 1., 0., 0., 0.],\n",
      "       [0., 0., 0., 0., 1.],\n",
      "       [0., 0., 0., 0., 1.],\n",
      "       [0., 0., 0., 1., 0.],\n",
      "       [0., 0., 1., 0., 0.]])]\n"
     ]
    }
   ],
   "source": [
    "x_one_hot = [np.eye(char_set_size)[x] for x in x_data]\n",
    "print(x_one_hot)"
   ]
  },
  {
   "cell_type": "code",
   "execution_count": 66,
   "metadata": {},
   "outputs": [
    {
     "name": "stdout",
     "output_type": "stream",
     "text": [
      "tensor([[[0., 1., 0., 0., 0.],\n",
      "         [0., 0., 0., 0., 1.],\n",
      "         [0., 0., 0., 0., 1.],\n",
      "         [0., 0., 0., 1., 0.],\n",
      "         [0., 0., 1., 0., 0.]]])\n",
      "tensor([[4, 4, 3, 2, 0]])\n"
     ]
    }
   ],
   "source": [
    "X = torch.FloatTensor(x_one_hot)\n",
    "Y = torch.LongTensor(y_data)\n",
    "print(X)\n",
    "print(Y)"
   ]
  },
  {
   "cell_type": "code",
   "execution_count": 67,
   "metadata": {},
   "outputs": [
    {
     "name": "stdout",
     "output_type": "stream",
     "text": [
      "torch.Size([1, 5, 5]) torch.Size([1, 5])\n"
     ]
    }
   ],
   "source": [
    "print(X.size(), Y.size())"
   ]
  },
  {
   "cell_type": "code",
   "execution_count": 68,
   "metadata": {},
   "outputs": [],
   "source": [
    "# nn.RNN(input_size, hidden_size, output_size)\n",
    "\n",
    "class Net(nn.Module):\n",
    "    def __init__(self, input_size, hidden_size, output_size):\n",
    "        super(Net, self).__init__()\n",
    "        self.rnn=nn.RNN(input_size, hidden_size, batch_first=True)\n",
    "        # batch_first : 입력 데이터의 배치의 차원의 위치를 설정\n",
    "        # (배치크기, 시퀀스 길이, 특징 수)\n",
    "        # 입력의 형태가 (32,10,50) : 배치의 크기 32, 시퀀스 길이 10, 특징의 수 50\n",
    "        self.fc=nn.Linear(hidden_size, output_size, bias=True)\n",
    "    \n",
    "    def forward(self, x):\n",
    "        x, _status = self.rnn(x)\n",
    "        x = self.fc(x)\n",
    "        return x"
   ]
  },
  {
   "cell_type": "code",
   "execution_count": 69,
   "metadata": {},
   "outputs": [],
   "source": [
    "model = Net(input_size, hidden_size, output_size)\n",
    "criterion = nn.CrossEntropyLoss()\n",
    "optimizer = optim.Adam(model.parameters(), lr=learning_rate)"
   ]
  },
  {
   "cell_type": "code",
   "execution_count": 70,
   "metadata": {},
   "outputs": [
    {
     "name": "stdout",
     "output_type": "stream",
     "text": [
      "tensor([[[ 0.2148,  0.3756,  0.4254, -0.7129, -0.1679],\n",
      "         [-0.2416,  0.0673,  0.4892, -0.5885, -0.4440],\n",
      "         [-0.1719, -0.1547,  0.2520, -0.1486, -0.2568],\n",
      "         [ 0.2114,  0.0415,  0.1348, -0.1999, -0.1248],\n",
      "         [ 0.1521, -0.0465,  0.5170, -0.4732, -0.1279]]],\n",
      "       grad_fn=<ViewBackward0>)\n",
      "torch.Size([1, 5, 5])\n"
     ]
    }
   ],
   "source": [
    "output = model(X)\n",
    "print(output)\n",
    "print(output.size())"
   ]
  },
  {
   "cell_type": "code",
   "execution_count": 71,
   "metadata": {},
   "outputs": [
    {
     "name": "stdout",
     "output_type": "stream",
     "text": [
      "[[2 2 2 0 2]]\n"
     ]
    }
   ],
   "source": [
    "result = output.data.numpy().argmax(axis=2)\n",
    "print(result)"
   ]
  },
  {
   "cell_type": "code",
   "execution_count": 72,
   "metadata": {},
   "outputs": [
    {
     "name": "stdout",
     "output_type": "stream",
     "text": [
      "0 loss:  1.7130171060562134 prediction:  [[2 2 2 0 2]] eee!e True:  [[4, 4, 3, 2, 0]]\n",
      "1 loss:  1.4136368036270142 prediction:  [[2 2 3 0 2]] eel!e True:  [[4, 4, 3, 2, 0]]\n",
      "2 loss:  1.1850433349609375 prediction:  [[4 3 3 2 0]] plle! True:  [[4, 4, 3, 2, 0]]\n",
      "3 loss:  0.935154914855957 prediction:  [[4 4 3 3 0]] ppll! True:  [[4, 4, 3, 2, 0]]\n",
      "4 loss:  0.7001248002052307 prediction:  [[4 4 3 2 0]] pple! True:  [[4, 4, 3, 2, 0]]\n",
      "5 loss:  0.5150882601737976 prediction:  [[4 4 3 2 0]] pple! True:  [[4, 4, 3, 2, 0]]\n",
      "6 loss:  0.35900866985321045 prediction:  [[4 4 3 2 0]] pple! True:  [[4, 4, 3, 2, 0]]\n",
      "7 loss:  0.2491227686405182 prediction:  [[4 4 3 2 0]] pple! True:  [[4, 4, 3, 2, 0]]\n",
      "8 loss:  0.16918864846229553 prediction:  [[4 4 3 2 0]] pple! True:  [[4, 4, 3, 2, 0]]\n",
      "9 loss:  0.11367340385913849 prediction:  [[4 4 3 2 0]] pple! True:  [[4, 4, 3, 2, 0]]\n",
      "10 loss:  0.07785370945930481 prediction:  [[4 4 3 2 0]] pple! True:  [[4, 4, 3, 2, 0]]\n",
      "11 loss:  0.055260878056287766 prediction:  [[4 4 3 2 0]] pple! True:  [[4, 4, 3, 2, 0]]\n",
      "12 loss:  0.04083635285496712 prediction:  [[4 4 3 2 0]] pple! True:  [[4, 4, 3, 2, 0]]\n",
      "13 loss:  0.03129607066512108 prediction:  [[4 4 3 2 0]] pple! True:  [[4, 4, 3, 2, 0]]\n",
      "14 loss:  0.024688592180609703 prediction:  [[4 4 3 2 0]] pple! True:  [[4, 4, 3, 2, 0]]\n",
      "15 loss:  0.019900795072317123 prediction:  [[4 4 3 2 0]] pple! True:  [[4, 4, 3, 2, 0]]\n",
      "16 loss:  0.016300098970532417 prediction:  [[4 4 3 2 0]] pple! True:  [[4, 4, 3, 2, 0]]\n",
      "17 loss:  0.013517489656805992 prediction:  [[4 4 3 2 0]] pple! True:  [[4, 4, 3, 2, 0]]\n",
      "18 loss:  0.011326553300023079 prediction:  [[4 4 3 2 0]] pple! True:  [[4, 4, 3, 2, 0]]\n",
      "19 loss:  0.0095790084451437 prediction:  [[4 4 3 2 0]] pple! True:  [[4, 4, 3, 2, 0]]\n",
      "20 loss:  0.00817191880196333 prediction:  [[4 4 3 2 0]] pple! True:  [[4, 4, 3, 2, 0]]\n",
      "21 loss:  0.007030269596725702 prediction:  [[4 4 3 2 0]] pple! True:  [[4, 4, 3, 2, 0]]\n",
      "22 loss:  0.006097774021327496 prediction:  [[4 4 3 2 0]] pple! True:  [[4, 4, 3, 2, 0]]\n",
      "23 loss:  0.005331238266080618 prediction:  [[4 4 3 2 0]] pple! True:  [[4, 4, 3, 2, 0]]\n",
      "24 loss:  0.004697333090007305 prediction:  [[4 4 3 2 0]] pple! True:  [[4, 4, 3, 2, 0]]\n",
      "25 loss:  0.004169937688857317 prediction:  [[4 4 3 2 0]] pple! True:  [[4, 4, 3, 2, 0]]\n",
      "26 loss:  0.003728635609149933 prediction:  [[4 4 3 2 0]] pple! True:  [[4, 4, 3, 2, 0]]\n",
      "27 loss:  0.0033571950625628233 prediction:  [[4 4 3 2 0]] pple! True:  [[4, 4, 3, 2, 0]]\n",
      "28 loss:  0.003042882075533271 prediction:  [[4 4 3 2 0]] pple! True:  [[4, 4, 3, 2, 0]]\n",
      "29 loss:  0.002775413217023015 prediction:  [[4 4 3 2 0]] pple! True:  [[4, 4, 3, 2, 0]]\n",
      "30 loss:  0.0025466126389801502 prediction:  [[4 4 3 2 0]] pple! True:  [[4, 4, 3, 2, 0]]\n",
      "31 loss:  0.0023499946109950542 prediction:  [[4 4 3 2 0]] pple! True:  [[4, 4, 3, 2, 0]]\n",
      "32 loss:  0.002180104609578848 prediction:  [[4 4 3 2 0]] pple! True:  [[4, 4, 3, 2, 0]]\n",
      "33 loss:  0.002032688818871975 prediction:  [[4 4 3 2 0]] pple! True:  [[4, 4, 3, 2, 0]]\n",
      "34 loss:  0.0019041526829823852 prediction:  [[4 4 3 2 0]] pple! True:  [[4, 4, 3, 2, 0]]\n",
      "35 loss:  0.0017916798824444413 prediction:  [[4 4 3 2 0]] pple! True:  [[4, 4, 3, 2, 0]]\n",
      "36 loss:  0.0016927840188145638 prediction:  [[4 4 3 2 0]] pple! True:  [[4, 4, 3, 2, 0]]\n",
      "37 loss:  0.001605522120371461 prediction:  [[4 4 3 2 0]] pple! True:  [[4, 4, 3, 2, 0]]\n",
      "38 loss:  0.0015282112872228026 prediction:  [[4 4 3 2 0]] pple! True:  [[4, 4, 3, 2, 0]]\n",
      "39 loss:  0.0014595000538975 prediction:  [[4 4 3 2 0]] pple! True:  [[4, 4, 3, 2, 0]]\n",
      "40 loss:  0.001398249645717442 prediction:  [[4 4 3 2 0]] pple! True:  [[4, 4, 3, 2, 0]]\n",
      "41 loss:  0.0013433208223432302 prediction:  [[4 4 3 2 0]] pple! True:  [[4, 4, 3, 2, 0]]\n",
      "42 loss:  0.001294096582569182 prediction:  [[4 4 3 2 0]] pple! True:  [[4, 4, 3, 2, 0]]\n",
      "43 loss:  0.001249745604582131 prediction:  [[4 4 3 2 0]] pple! True:  [[4, 4, 3, 2, 0]]\n",
      "44 loss:  0.0012096032733097672 prediction:  [[4 4 3 2 0]] pple! True:  [[4, 4, 3, 2, 0]]\n",
      "45 loss:  0.001173313008621335 prediction:  [[4 4 3 2 0]] pple! True:  [[4, 4, 3, 2, 0]]\n",
      "46 loss:  0.0011402808595448732 prediction:  [[4 4 3 2 0]] pple! True:  [[4, 4, 3, 2, 0]]\n",
      "47 loss:  0.0011102217249572277 prediction:  [[4 4 3 2 0]] pple! True:  [[4, 4, 3, 2, 0]]\n",
      "48 loss:  0.001082731643691659 prediction:  [[4 4 3 2 0]] pple! True:  [[4, 4, 3, 2, 0]]\n",
      "49 loss:  0.0010576441418379545 prediction:  [[4 4 3 2 0]] pple! True:  [[4, 4, 3, 2, 0]]\n",
      "50 loss:  0.0010344597976654768 prediction:  [[4 4 3 2 0]] pple! True:  [[4, 4, 3, 2, 0]]\n",
      "51 loss:  0.0010131788440048695 prediction:  [[4 4 3 2 0]] pple! True:  [[4, 4, 3, 2, 0]]\n",
      "52 loss:  0.0009934920817613602 prediction:  [[4 4 3 2 0]] pple! True:  [[4, 4, 3, 2, 0]]\n",
      "53 loss:  0.0009753758204169571 prediction:  [[4 4 3 2 0]] pple! True:  [[4, 4, 3, 2, 0]]\n",
      "54 loss:  0.0009584729559719563 prediction:  [[4 4 3 2 0]] pple! True:  [[4, 4, 3, 2, 0]]\n",
      "55 loss:  0.000942831567954272 prediction:  [[4 4 3 2 0]] pple! True:  [[4, 4, 3, 2, 0]]\n",
      "56 loss:  0.0009281894890591502 prediction:  [[4 4 3 2 0]] pple! True:  [[4, 4, 3, 2, 0]]\n",
      "57 loss:  0.0009145232615992427 prediction:  [[4 4 3 2 0]] pple! True:  [[4, 4, 3, 2, 0]]\n",
      "58 loss:  0.0009017614647746086 prediction:  [[4 4 3 2 0]] pple! True:  [[4, 4, 3, 2, 0]]\n",
      "59 loss:  0.0008896898361854255 prediction:  [[4 4 3 2 0]] pple! True:  [[4, 4, 3, 2, 0]]\n",
      "60 loss:  0.000878379971254617 prediction:  [[4 4 3 2 0]] pple! True:  [[4, 4, 3, 2, 0]]\n",
      "61 loss:  0.0008677602745592594 prediction:  [[4 4 3 2 0]] pple! True:  [[4, 4, 3, 2, 0]]\n",
      "62 loss:  0.0008576879044994712 prediction:  [[4 4 3 2 0]] pple! True:  [[4, 4, 3, 2, 0]]\n",
      "63 loss:  0.0008481392869725823 prediction:  [[4 4 3 2 0]] pple! True:  [[4, 4, 3, 2, 0]]\n",
      "64 loss:  0.0008390191942453384 prediction:  [[4 4 3 2 0]] pple! True:  [[4, 4, 3, 2, 0]]\n",
      "65 loss:  0.0008304465445689857 prediction:  [[4 4 3 2 0]] pple! True:  [[4, 4, 3, 2, 0]]\n",
      "66 loss:  0.0008221595780923963 prediction:  [[4 4 3 2 0]] pple! True:  [[4, 4, 3, 2, 0]]\n",
      "67 loss:  0.0008143248851411045 prediction:  [[4 4 3 2 0]] pple! True:  [[4, 4, 3, 2, 0]]\n",
      "68 loss:  0.0008067996241152287 prediction:  [[4 4 3 2 0]] pple! True:  [[4, 4, 3, 2, 0]]\n",
      "69 loss:  0.0007996076601557434 prediction:  [[4 4 3 2 0]] pple! True:  [[4, 4, 3, 2, 0]]\n",
      "70 loss:  0.0007926776306703687 prediction:  [[4 4 3 2 0]] pple! True:  [[4, 4, 3, 2, 0]]\n",
      "71 loss:  0.0007860093610361218 prediction:  [[4 4 3 2 0]] pple! True:  [[4, 4, 3, 2, 0]]\n",
      "72 loss:  0.0007795552955940366 prediction:  [[4 4 3 2 0]] pple! True:  [[4, 4, 3, 2, 0]]\n",
      "73 loss:  0.0007733394159004092 prediction:  [[4 4 3 2 0]] pple! True:  [[4, 4, 3, 2, 0]]\n",
      "74 loss:  0.0007672901265323162 prediction:  [[4 4 3 2 0]] pple! True:  [[4, 4, 3, 2, 0]]\n",
      "75 loss:  0.0007615027134306729 prediction:  [[4 4 3 2 0]] pple! True:  [[4, 4, 3, 2, 0]]\n",
      "76 loss:  0.0007558820070698857 prediction:  [[4 4 3 2 0]] pple! True:  [[4, 4, 3, 2, 0]]\n",
      "77 loss:  0.0007503802189603448 prediction:  [[4 4 3 2 0]] pple! True:  [[4, 4, 3, 2, 0]]\n",
      "78 loss:  0.00074504513759166 prediction:  [[4 4 3 2 0]] pple! True:  [[4, 4, 3, 2, 0]]\n",
      "79 loss:  0.0007398290908895433 prediction:  [[4 4 3 2 0]] pple! True:  [[4, 4, 3, 2, 0]]\n",
      "80 loss:  0.0007347321370616555 prediction:  [[4 4 3 2 0]] pple! True:  [[4, 4, 3, 2, 0]]\n",
      "81 loss:  0.0007298017735593021 prediction:  [[4 4 3 2 0]] pple! True:  [[4, 4, 3, 2, 0]]\n",
      "82 loss:  0.0007249904447235167 prediction:  [[4 4 3 2 0]] pple! True:  [[4, 4, 3, 2, 0]]\n",
      "83 loss:  0.0007202505366876721 prediction:  [[4 4 3 2 0]] pple! True:  [[4, 4, 3, 2, 0]]\n",
      "84 loss:  0.000715605856385082 prediction:  [[4 4 3 2 0]] pple! True:  [[4, 4, 3, 2, 0]]\n",
      "85 loss:  0.0007110564038157463 prediction:  [[4 4 3 2 0]] pple! True:  [[4, 4, 3, 2, 0]]\n",
      "86 loss:  0.0007066261023283005 prediction:  [[4 4 3 2 0]] pple! True:  [[4, 4, 3, 2, 0]]\n",
      "87 loss:  0.0007022671634331346 prediction:  [[4 4 3 2 0]] pple! True:  [[4, 4, 3, 2, 0]]\n",
      "88 loss:  0.0006978843011893332 prediction:  [[4 4 3 2 0]] pple! True:  [[4, 4, 3, 2, 0]]\n",
      "89 loss:  0.0006937158177606761 prediction:  [[4 4 3 2 0]] pple! True:  [[4, 4, 3, 2, 0]]\n",
      "90 loss:  0.0006895711412653327 prediction:  [[4 4 3 2 0]] pple! True:  [[4, 4, 3, 2, 0]]\n",
      "91 loss:  0.0006854025414213538 prediction:  [[4 4 3 2 0]] pple! True:  [[4, 4, 3, 2, 0]]\n",
      "92 loss:  0.0006814483786001801 prediction:  [[4 4 3 2 0]] pple! True:  [[4, 4, 3, 2, 0]]\n",
      "93 loss:  0.0006774226785637438 prediction:  [[4 4 3 2 0]] pple! True:  [[4, 4, 3, 2, 0]]\n",
      "94 loss:  0.0006735160714015365 prediction:  [[4 4 3 2 0]] pple! True:  [[4, 4, 3, 2, 0]]\n",
      "95 loss:  0.0006696570198982954 prediction:  [[4 4 3 2 0]] pple! True:  [[4, 4, 3, 2, 0]]\n",
      "96 loss:  0.0006658218335360289 prediction:  [[4 4 3 2 0]] pple! True:  [[4, 4, 3, 2, 0]]\n",
      "97 loss:  0.0006620580097660422 prediction:  [[4 4 3 2 0]] pple! True:  [[4, 4, 3, 2, 0]]\n",
      "98 loss:  0.0006583180511370301 prediction:  [[4 4 3 2 0]] pple! True:  [[4, 4, 3, 2, 0]]\n",
      "99 loss:  0.0006546733202412724 prediction:  [[4 4 3 2 0]] pple! True:  [[4, 4, 3, 2, 0]]\n",
      "100 loss:  0.0006510285893455148 prediction:  [[4 4 3 2 0]] pple! True:  [[4, 4, 3, 2, 0]]\n",
      "101 loss:  0.0006474314723163843 prediction:  [[4 4 3 2 0]] pple! True:  [[4, 4, 3, 2, 0]]\n",
      "102 loss:  0.0006439057760871947 prediction:  [[4 4 3 2 0]] pple! True:  [[4, 4, 3, 2, 0]]\n",
      "103 loss:  0.0006403324077837169 prediction:  [[4 4 3 2 0]] pple! True:  [[4, 4, 3, 2, 0]]\n",
      "104 loss:  0.000636878190562129 prediction:  [[4 4 3 2 0]] pple! True:  [[4, 4, 3, 2, 0]]\n",
      "105 loss:  0.0006334239151328802 prediction:  [[4 4 3 2 0]] pple! True:  [[4, 4, 3, 2, 0]]\n",
      "106 loss:  0.0006300172535702586 prediction:  [[4 4 3 2 0]] pple! True:  [[4, 4, 3, 2, 0]]\n",
      "107 loss:  0.0006266582058742642 prediction:  [[4 4 3 2 0]] pple! True:  [[4, 4, 3, 2, 0]]\n",
      "108 loss:  0.0006232991581782699 prediction:  [[4 4 3 2 0]] pple! True:  [[4, 4, 3, 2, 0]]\n",
      "109 loss:  0.00061996397562325 prediction:  [[4 4 3 2 0]] pple! True:  [[4, 4, 3, 2, 0]]\n",
      "110 loss:  0.0006167478277347982 prediction:  [[4 4 3 2 0]] pple! True:  [[4, 4, 3, 2, 0]]\n",
      "111 loss:  0.0006134840077720582 prediction:  [[4 4 3 2 0]] pple! True:  [[4, 4, 3, 2, 0]]\n",
      "112 loss:  0.0006102201878093183 prediction:  [[4 4 3 2 0]] pple! True:  [[4, 4, 3, 2, 0]]\n",
      "113 loss:  0.0006070755189284682 prediction:  [[4 4 3 2 0]] pple! True:  [[4, 4, 3, 2, 0]]\n",
      "114 loss:  0.0006038593128323555 prediction:  [[4 4 3 2 0]] pple! True:  [[4, 4, 3, 2, 0]]\n",
      "115 loss:  0.0006007621414028108 prediction:  [[4 4 3 2 0]] pple! True:  [[4, 4, 3, 2, 0]]\n",
      "116 loss:  0.0005975936655886471 prediction:  [[4 4 3 2 0]] pple! True:  [[4, 4, 3, 2, 0]]\n",
      "117 loss:  0.0005945679731667042 prediction:  [[4 4 3 2 0]] pple! True:  [[4, 4, 3, 2, 0]]\n",
      "118 loss:  0.0005914708017371595 prediction:  [[4 4 3 2 0]] pple! True:  [[4, 4, 3, 2, 0]]\n",
      "119 loss:  0.0005884213605895638 prediction:  [[4 4 3 2 0]] pple! True:  [[4, 4, 3, 2, 0]]\n",
      "120 loss:  0.0005854432238265872 prediction:  [[4 4 3 2 0]] pple! True:  [[4, 4, 3, 2, 0]]\n",
      "121 loss:  0.000582489010412246 prediction:  [[4 4 3 2 0]] pple! True:  [[4, 4, 3, 2, 0]]\n",
      "122 loss:  0.0005794870667159557 prediction:  [[4 4 3 2 0]] pple! True:  [[4, 4, 3, 2, 0]]\n",
      "123 loss:  0.0005765804671682417 prediction:  [[4 4 3 2 0]] pple! True:  [[4, 4, 3, 2, 0]]\n",
      "124 loss:  0.0005736976745538414 prediction:  [[4 4 3 2 0]] pple! True:  [[4, 4, 3, 2, 0]]\n",
      "125 loss:  0.0005707433447241783 prediction:  [[4 4 3 2 0]] pple! True:  [[4, 4, 3, 2, 0]]\n",
      "126 loss:  0.0005678844172507524 prediction:  [[4 4 3 2 0]] pple! True:  [[4, 4, 3, 2, 0]]\n",
      "127 loss:  0.000565120717510581 prediction:  [[4 4 3 2 0]] pple! True:  [[4, 4, 3, 2, 0]]\n",
      "128 loss:  0.0005622140597552061 prediction:  [[4 4 3 2 0]] pple! True:  [[4, 4, 3, 2, 0]]\n",
      "129 loss:  0.0005594264948740602 prediction:  [[4 4 3 2 0]] pple! True:  [[4, 4, 3, 2, 0]]\n",
      "130 loss:  0.0005566150648519397 prediction:  [[4 4 3 2 0]] pple! True:  [[4, 4, 3, 2, 0]]\n",
      "131 loss:  0.0005538989789783955 prediction:  [[4 4 3 2 0]] pple! True:  [[4, 4, 3, 2, 0]]\n",
      "132 loss:  0.0005511828931048512 prediction:  [[4 4 3 2 0]] pple! True:  [[4, 4, 3, 2, 0]]\n",
      "133 loss:  0.0005483952118083835 prediction:  [[4 4 3 2 0]] pple! True:  [[4, 4, 3, 2, 0]]\n",
      "134 loss:  0.0005457267398014665 prediction:  [[4 4 3 2 0]] pple! True:  [[4, 4, 3, 2, 0]]\n",
      "135 loss:  0.0005430106539279222 prediction:  [[4 4 3 2 0]] pple! True:  [[4, 4, 3, 2, 0]]\n",
      "136 loss:  0.0005403897957876325 prediction:  [[4 4 3 2 0]] pple! True:  [[4, 4, 3, 2, 0]]\n",
      "137 loss:  0.0005377450725063682 prediction:  [[4 4 3 2 0]] pple! True:  [[4, 4, 3, 2, 0]]\n",
      "138 loss:  0.0005351242143660784 prediction:  [[4 4 3 2 0]] pple! True:  [[4, 4, 3, 2, 0]]\n",
      "139 loss:  0.0005325033562257886 prediction:  [[4 4 3 2 0]] pple! True:  [[4, 4, 3, 2, 0]]\n",
      "140 loss:  0.0005299063632264733 prediction:  [[4 4 3 2 0]] pple! True:  [[4, 4, 3, 2, 0]]\n",
      "141 loss:  0.0005273568676784635 prediction:  [[4 4 3 2 0]] pple! True:  [[4, 4, 3, 2, 0]]\n",
      "142 loss:  0.0005248074885457754 prediction:  [[4 4 3 2 0]] pple! True:  [[4, 4, 3, 2, 0]]\n",
      "143 loss:  0.0005223295302130282 prediction:  [[4 4 3 2 0]] pple! True:  [[4, 4, 3, 2, 0]]\n",
      "144 loss:  0.0005197562859393656 prediction:  [[4 4 3 2 0]] pple! True:  [[4, 4, 3, 2, 0]]\n",
      "145 loss:  0.0005173020763322711 prediction:  [[4 4 3 2 0]] pple! True:  [[4, 4, 3, 2, 0]]\n",
      "146 loss:  0.0005148003110662103 prediction:  [[4 4 3 2 0]] pple! True:  [[4, 4, 3, 2, 0]]\n",
      "147 loss:  0.0005122984875924885 prediction:  [[4 4 3 2 0]] pple! True:  [[4, 4, 3, 2, 0]]\n",
      "148 loss:  0.0005098681431263685 prediction:  [[4 4 3 2 0]] pple! True:  [[4, 4, 3, 2, 0]]\n",
      "149 loss:  0.000507461663801223 prediction:  [[4 4 3 2 0]] pple! True:  [[4, 4, 3, 2, 0]]\n",
      "150 loss:  0.0005050550680607557 prediction:  [[4 4 3 2 0]] pple! True:  [[4, 4, 3, 2, 0]]\n",
      "151 loss:  0.0005026247235946357 prediction:  [[4 4 3 2 0]] pple! True:  [[4, 4, 3, 2, 0]]\n",
      "152 loss:  0.0005002896068617702 prediction:  [[4 4 3 2 0]] pple! True:  [[4, 4, 3, 2, 0]]\n",
      "153 loss:  0.0004979069344699383 prediction:  [[4 4 3 2 0]] pple! True:  [[4, 4, 3, 2, 0]]\n",
      "154 loss:  0.0004955480108037591 prediction:  [[4 4 3 2 0]] pple! True:  [[4, 4, 3, 2, 0]]\n",
      "155 loss:  0.0004932606243528426 prediction:  [[4 4 3 2 0]] pple! True:  [[4, 4, 3, 2, 0]]\n",
      "156 loss:  0.0004909493727609515 prediction:  [[4 4 3 2 0]] pple! True:  [[4, 4, 3, 2, 0]]\n",
      "157 loss:  0.000488614256028086 prediction:  [[4 4 3 2 0]] pple! True:  [[4, 4, 3, 2, 0]]\n",
      "158 loss:  0.0004863745125476271 prediction:  [[4 4 3 2 0]] pple! True:  [[4, 4, 3, 2, 0]]\n",
      "159 loss:  0.0004840869805775583 prediction:  [[4 4 3 2 0]] pple! True:  [[4, 4, 3, 2, 0]]\n",
      "160 loss:  0.00048184720799326897 prediction:  [[4 4 3 2 0]] pple! True:  [[4, 4, 3, 2, 0]]\n",
      "161 loss:  0.00047963118413463235 prediction:  [[4 4 3 2 0]] pple! True:  [[4, 4, 3, 2, 0]]\n",
      "162 loss:  0.0004773675464093685 prediction:  [[4 4 3 2 0]] pple! True:  [[4, 4, 3, 2, 0]]\n",
      "163 loss:  0.00047517544589936733 prediction:  [[4 4 3 2 0]] pple! True:  [[4, 4, 3, 2, 0]]\n",
      "164 loss:  0.0004729594220407307 prediction:  [[4 4 3 2 0]] pple! True:  [[4, 4, 3, 2, 0]]\n",
      "165 loss:  0.0004708149062935263 prediction:  [[4 4 3 2 0]] pple! True:  [[4, 4, 3, 2, 0]]\n",
      "166 loss:  0.00046867033233866096 prediction:  [[4 4 3 2 0]] pple! True:  [[4, 4, 3, 2, 0]]\n",
      "167 loss:  0.0004664781445171684 prediction:  [[4 4 3 2 0]] pple! True:  [[4, 4, 3, 2, 0]]\n",
      "168 loss:  0.00046440507867373526 prediction:  [[4 4 3 2 0]] pple! True:  [[4, 4, 3, 2, 0]]\n",
      "169 loss:  0.00046221291995607316 prediction:  [[4 4 3 2 0]] pple! True:  [[4, 4, 3, 2, 0]]\n",
      "170 loss:  0.00046013985411264 prediction:  [[4 4 3 2 0]] pple! True:  [[4, 4, 3, 2, 0]]\n",
      "171 loss:  0.0004580190870910883 prediction:  [[4 4 3 2 0]] pple! True:  [[4, 4, 3, 2, 0]]\n",
      "172 loss:  0.0004559698572847992 prediction:  [[4 4 3 2 0]] pple! True:  [[4, 4, 3, 2, 0]]\n",
      "173 loss:  0.0004538491484709084 prediction:  [[4 4 3 2 0]] pple! True:  [[4, 4, 3, 2, 0]]\n",
      "174 loss:  0.00045187133946456015 prediction:  [[4 4 3 2 0]] pple! True:  [[4, 4, 3, 2, 0]]\n",
      "175 loss:  0.0004497744084801525 prediction:  [[4 4 3 2 0]] pple! True:  [[4, 4, 3, 2, 0]]\n",
      "176 loss:  0.00044779659947380424 prediction:  [[4 4 3 2 0]] pple! True:  [[4, 4, 3, 2, 0]]\n",
      "177 loss:  0.0004457473405636847 prediction:  [[4 4 3 2 0]] pple! True:  [[4, 4, 3, 2, 0]]\n",
      "178 loss:  0.00044376953155733645 prediction:  [[4 4 3 2 0]] pple! True:  [[4, 4, 3, 2, 0]]\n",
      "179 loss:  0.0004417917225509882 prediction:  [[4 4 3 2 0]] pple! True:  [[4, 4, 3, 2, 0]]\n",
      "180 loss:  0.00043981391354463995 prediction:  [[4 4 3 2 0]] pple! True:  [[4, 4, 3, 2, 0]]\n",
      "181 loss:  0.0004378361045382917 prediction:  [[4 4 3 2 0]] pple! True:  [[4, 4, 3, 2, 0]]\n",
      "182 loss:  0.00043588210246525705 prediction:  [[4 4 3 2 0]] pple! True:  [[4, 4, 3, 2, 0]]\n",
      "183 loss:  0.0004339281585998833 prediction:  [[4 4 3 2 0]] pple! True:  [[4, 4, 3, 2, 0]]\n",
      "184 loss:  0.00043206941336393356 prediction:  [[4 4 3 2 0]] pple! True:  [[4, 4, 3, 2, 0]]\n",
      "185 loss:  0.0004301154986023903 prediction:  [[4 4 3 2 0]] pple! True:  [[4, 4, 3, 2, 0]]\n",
      "186 loss:  0.0004282091394998133 prediction:  [[4 4 3 2 0]] pple! True:  [[4, 4, 3, 2, 0]]\n",
      "187 loss:  0.00042632658733054996 prediction:  [[4 4 3 2 0]] pple! True:  [[4, 4, 3, 2, 0]]\n",
      "188 loss:  0.0004244679003022611 prediction:  [[4 4 3 2 0]] pple! True:  [[4, 4, 3, 2, 0]]\n",
      "189 loss:  0.00042258534813299775 prediction:  [[4 4 3 2 0]] pple! True:  [[4, 4, 3, 2, 0]]\n",
      "190 loss:  0.000420750497141853 prediction:  [[4 4 3 2 0]] pple! True:  [[4, 4, 3, 2, 0]]\n",
      "191 loss:  0.00041886797407642007 prediction:  [[4 4 3 2 0]] pple! True:  [[4, 4, 3, 2, 0]]\n",
      "192 loss:  0.0004171045438852161 prediction:  [[4 4 3 2 0]] pple! True:  [[4, 4, 3, 2, 0]]\n",
      "193 loss:  0.0004152696637902409 prediction:  [[4 4 3 2 0]] pple! True:  [[4, 4, 3, 2, 0]]\n",
      "194 loss:  0.0004134347545914352 prediction:  [[4 4 3 2 0]] pple! True:  [[4, 4, 3, 2, 0]]\n",
      "195 loss:  0.00041162368142977357 prediction:  [[4 4 3 2 0]] pple! True:  [[4, 4, 3, 2, 0]]\n",
      "196 loss:  0.0004098602512385696 prediction:  [[4 4 3 2 0]] pple! True:  [[4, 4, 3, 2, 0]]\n",
      "197 loss:  0.00040814452222548425 prediction:  [[4 4 3 2 0]] pple! True:  [[4, 4, 3, 2, 0]]\n",
      "198 loss:  0.0004063095839228481 prediction:  [[4 4 3 2 0]] pple! True:  [[4, 4, 3, 2, 0]]\n",
      "199 loss:  0.0004046414978802204 prediction:  [[4 4 3 2 0]] pple! True:  [[4, 4, 3, 2, 0]]\n"
     ]
    }
   ],
   "source": [
    "for i in range(200):\n",
    "    optimizer.zero_grad()\n",
    "    output = model(X)\n",
    "    loss = criterion(output.view(-1, input_size), Y.view(-1))\n",
    "    loss.backward()\n",
    "    optimizer.step()\n",
    "\n",
    "    result = output.data.numpy().argmax(axis=2)\n",
    "    str_result=''.join([index_to_char[c] for c in np.squeeze(result)])\n",
    "    print(i, \"loss: \", loss.item(), \"prediction: \", result, str_result, 'True: ', y_data)"
   ]
  },
  {
   "cell_type": "code",
   "execution_count": null,
   "metadata": {},
   "outputs": [],
   "source": []
  }
 ],
 "metadata": {
  "kernelspec": {
   "display_name": "base",
   "language": "python",
   "name": "python3"
  },
  "language_info": {
   "codemirror_mode": {
    "name": "ipython",
    "version": 3
   },
   "file_extension": ".py",
   "mimetype": "text/x-python",
   "name": "python",
   "nbconvert_exporter": "python",
   "pygments_lexer": "ipython3",
   "version": "3.12.7"
  }
 },
 "nbformat": 4,
 "nbformat_minor": 2
}
